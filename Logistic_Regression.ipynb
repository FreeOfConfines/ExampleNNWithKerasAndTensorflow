{
  "nbformat": 4,
  "nbformat_minor": 0,
  "metadata": {
    "colab": {
      "name": "Logistic Regression",
      "version": "0.3.2",
      "provenance": [],
      "collapsed_sections": [],
      "toc_visible": true,
      "include_colab_link": true
    },
    "kernelspec": {
      "name": "python3",
      "display_name": "Python 3"
    }
  },
  "cells": [
    {
      "cell_type": "markdown",
      "metadata": {
        "id": "view-in-github",
        "colab_type": "text"
      },
      "source": [
        "<a href=\"https://colab.research.google.com/github/FreeOfConfines/ExampleNNWithKerasAndTensorflow/blob/master/Logistic_Regression.ipynb\" target=\"_parent\"><img src=\"https://colab.research.google.com/assets/colab-badge.svg\" alt=\"Open In Colab\"/></a>"
      ]
    },
    {
      "cell_type": "markdown",
      "metadata": {
        "id": "QYkFBm9BkEDH",
        "colab_type": "text"
      },
      "source": [
        "##References\n",
        "\n",
        "1.  http://www.stat.cmu.edu/~ryantibs/advmethods/notes/logreg.pdf\n",
        "2.  http://www.holehouse.org/mlclass/06_Logistic_Regression.html\n",
        "\n"
      ]
    },
    {
      "cell_type": "markdown",
      "metadata": {
        "id": "K1rjF8zTWlgx",
        "colab_type": "text"
      },
      "source": [
        "## Getting Started\n",
        "\n",
        "In this article on Logistic Regression, we will explore the following:\n",
        "1. Mathematics behind logistic regression algorithm to two-class and multi-class classification problem\n",
        "2. Implement logistic regression with TF/Keras library and apply it on Fashion MNIST database. In the implementation section, we will explore two ways to implement this algorithm.\n",
        "3. Finally, we will summarize results from the implementations.\n",
        "\n",
        "Mathematical description should be easy to follow and should help understand fundamentals of logistic regression. If you are not keen on the math, then you may proceed directly to the Implementation and Conclusion sections."
      ]
    },
    {
      "cell_type": "markdown",
      "metadata": {
        "id": "SBa4DcYD7sPp",
        "colab_type": "text"
      },
      "source": [
        "## Classification Problems and Logistic Regression\n",
        "\n"
      ]
    },
    {
      "cell_type": "markdown",
      "metadata": {
        "id": "PF9YYOvX8JvM",
        "colab_type": "text"
      },
      "source": [
        "Classification problems involve categorizing or assigning an input to one of the many discrete classes or labels. For instance, classifying an input image as a picture of an article of clothing, like Pant, Skirt, Jacket etc. Classification problems are different from typical regression problems in that their output classes are discrete, i.e., not continuous. In other words, Label Pant, Label Skirt, Label Jacket etc. are discrete classes. Typically, we associate a numerical ID with each class.\n",
        "\n",
        "Logistic regression is a simple algorithm applied on Classification problems. Given an observation, logistic regression classifier will compute a **probability** metric and will label the observation to a class with the highest probability.\n",
        "\n",
        "Later we will work with Fashion MNIST database which is a collection of images. Therefore, it is fair to assume that each observation is an image. Let us formalize the approach.\n",
        " "
      ]
    },
    {
      "cell_type": "markdown",
      "metadata": {
        "id": "-ZDnTi0I8M99",
        "colab_type": "text"
      },
      "source": [
        "## Two-Class Classification Problem"
      ]
    },
    {
      "cell_type": "markdown",
      "metadata": {
        "id": "y_71RWC4J1i-",
        "colab_type": "text"
      },
      "source": [
        "In a Two-Class Classification problem, there are two output classes, say Class 0 and Class 1. Given an observation, logistic regression will label the observation as Class 1 if the metric is greater than 0.5 else label it as Class 0.\n",
        "\n",
        "We are given a group of images and their correct class labels; this group forms the **training data**. Let $x_i$ be the $i$-th image of the tranining set and $y_i$ be the class label of the $i$-th image. Each image is a $p \\times p$ matrix, which means $x_i$ is a flattened vector with $p^2$ entries. Class label of $i$-th image takes one of two values, i.e., $0$ or $1$. \n",
        "\n",
        "The **probability** metric that an $i$-th image belongs to Class 1 is defined as:\n",
        "\\begin{equation}\n",
        "P(\\hat{y_i}=1 | x_i, \\beta) = \\frac{e^{\\beta^{T}x_i}}{1+ e^{\\beta^{T}x_i}}=p_i\n",
        "\\end{equation}\n",
        "Since there are only two classes, the probability metric that the image belongs to Class 0 is:\n",
        "\\begin{equation}\n",
        "P(\\hat{y_i}=0 | x_i, \\beta) = 1-P(\\hat{y_i}=1 | x_i, \\beta) =1- p_i = q_i\n",
        "\\end{equation}\n",
        "\n",
        "Let us understand the above formulation a little better:\n",
        "\n",
        "1. The metric $P(\\hat{y_i}=1 | x_i, \\beta)$ **[sigmoid function](https://en.wikipedia.org/wiki/Sigmoid_function)** which takes on values between 0 and 1. Note that  $P(\\hat{y_i}=1 | x_i, \\beta)$ and $P(\\hat{y_i}=0 | x_i, \\beta)$ adds up to 1.\n",
        "2.$\\beta$ is a vector with $p^2$ entries, same as any $x_i$. $\\beta$ is the vector we hope to **learn** by training our network on the set of input images and their associated ground-truth labels.\n",
        "3. Keen readers would have noticed we have one parameter vector $\\beta$ for two classes. For a problem with $k$ classes, $k-1$ $\\beta$(s) are sufficient. This makes sense because the probability of belonging to the $k$-th class is simply one minus the sum of probabilities of belonging to all other classes.\n",
        "\n",
        "Let us understand decision boundary of the classifier:\n",
        "\n",
        "As mentioned earlier, an image is labeled as Class 1 if the probability metric is 0.5 or greater. In a spatial sense, classifier (after training) would have arrived at a $\\beta$ that will put all images belonging to Class 1 on one side of the $p=0.5$ boundary and the rest on the other side. Therefore, $p=0.5$ defines a **decision** boundary.\n",
        "\n",
        "\\begin{equation}\n",
        "P(\\hat{y_i}=1 | x_i, \\beta) = 0.5 \\\\\n",
        "\\implies \\frac{e^{\\beta^{T}x_i}}{1+ e^{\\beta^{T}x_i}} =0.5 \\\\\n",
        "\\implies e^{\\beta^{T}x_i} = 1 \\\\\n",
        "\\implies \\beta^{T}x_i =0\n",
        "\\end{equation}\n",
        " \n",
        " The equation $\\beta^{T}x_i =0$ is a hyperplane (in two dimensional space, it is a simple line) that divides the two classes of images; images on one side of this hyperplane belong to Class-0 and images on the other size of this hyperplane belong to Class-1.\n",
        " \n",
        " In other words, logistic regression tries to create **linear** boundaries in a $p^2$ dimensional space. We will revisit decision boundary later in the discussion.\n",
        " \n",
        " \n",
        "### Estimate $\\beta$ coefficients (Training Phase)\n",
        "\n",
        "In training phase, we use $n$ images and their corresponding class labels to train or estimate *good* $\\beta$ coefficients. Since we are working with probability metric, it is natural to use the **likelihood** objective function ($L(\\beta)$):\n",
        "\\begin{equation}\n",
        "L(\\beta) = \\prod_{k=1}^{n} P(Y_i = y_i | x_i, \\beta)\n",
        "\\end{equation}\n",
        "\n",
        "Let us understand the above formulation a little better:\n",
        "1. There are $n$ terms within the product above and each of the term corresponds to an image in the training set.\n",
        "2. For each image in the training set, we know the ground truth or the class label-note we are given that information. If $i$-th image belongs to Class 1 (as per ground truth), then use $p$ for the $i$-th entry in the product above. The objective function thus formed is the **likelihood** objective function.\n",
        "3. Intuitively, we would want to estimate $\\beta$ that maximizes the likelihood objective function.\n",
        "\n",
        "An iterative optimization algorithm may be used to achieve this maximization, for instance, **weighted least-squares regression** is one such algorithm.\n",
        "\n",
        "### Implementation Details\n",
        "\n",
        "We will continue to explore the $L(\\beta)$ formulation for the Two-Class problem further to familiarize with some nifty implementational details. If you have read other materials on logistic regression, you might have come across **cross entropy with logits**. I will try to explain how this fits into logistic regression:\n",
        "\n",
        "In a Two-Class problem, $y_i$(s) take on value of $1$ or $0$, and so we can re-write the above equation:\n",
        "\n",
        "\\begin{equation}\n",
        "L(\\beta) = \\prod_{i=1}^{n} P(Y_i = 0 | x_i, \\beta)^{1-y_i}P(Y_i = 1 | x_i, \\beta)^{y_i} \\\\\n",
        "= \\prod_{i=1}^{n} q_i^{1-y_i}p_i^{y_i}\n",
        "\\end{equation}\n",
        "\n",
        "Clever part of the rewrite is that $i$-th term of the product is $q_i$ if $y_i=0$ else it is $p_i$. For convenience, we will work with **logarithm** of the cost function, often referred to as **log likelihood** objective function:\n",
        "\\begin{equation}\n",
        "l(\\beta) = log(L(\\beta)) = \\sum_{i=1}^{n}(1-y_i)log(q_i) + y_ilog(p_i)\\\\\n",
        "= \\sum_{i=1}^{n} log(q_i) + y_i log(\\frac{p_i}{q_i})\n",
        "\\end{equation}\n",
        "\n",
        "Let us understand the formulation a little better:\n",
        "1. The term $log(\\frac{p_i}{q_i})$ is often referred to as **logit** of $p_i$. \n",
        "2.  The $i$-term in the summation is referred to as **cross-entropy with logits**, cross-entropy with logits refer to how the appropriate $p$ or $q$ is picked based on class label of the $i$-th term.\n",
        "\n",
        "### Discussion\n",
        "\n",
        "We had shown that logistic regression creates linear boundaries to separate (in this case) the two classes. But not all classification problems will be so well-behaved, i.e., linear boundaries may not be sufficient to separate the two classes. \n",
        "\n",
        "Imagine a classification problem where Class-0 is every example within a unit circle (or sphere) and Class-1 is every example outside a unit circle (or sphere). Naturally, classification using linear boundaries **will not work** for this example. When faced with such classification problems, transforming input elements $x_i$ may help transform complex decision boundaries to those classifiable with linear boundaries. By the way, there is no guarantee we can find a transformation to achieve this."
      ]
    },
    {
      "cell_type": "markdown",
      "metadata": {
        "id": "xyNLnBEG8Vxv",
        "colab_type": "text"
      },
      "source": [
        "## Multi-Class Classification Problem"
      ]
    },
    {
      "cell_type": "markdown",
      "metadata": {
        "id": "ToCtdKi-qu-O",
        "colab_type": "text"
      },
      "source": [
        "In a Multi-Class Classification problem, there are $K$ possible class labels and the formalization is an extension of the Two-Class Classification problem. \n",
        "\n",
        "The **probability** metric that an $i$-th image belongs to Class-$k$, where $0 \\leq k < K-1$, is defined as:\n",
        "\\begin{equation}\n",
        "P(\\hat{y_i}=k | x_i, \\beta) = \\frac{e^{\\beta_{k}^{T}x_i}}{1+ e^{\\beta_{k}^{T}x_i}}=p_{i,k}\n",
        "\\end{equation}\n",
        "\n",
        "Let us understand the above formulation a little better:\n",
        "1. There are $K-1$ $\\beta$(s), i.e., one each for $K-1$ of the $K$ classes.\n",
        "2. Note that $k$ goes from $0$ to $K-2$ and not $K-1$. This is so because $P(\\hat{y_i}=K-1 | x_i, \\beta)=1 - (p_0+p_1+...+p_{K-2})$.\n",
        "\n",
        "Skipping some of the steps detailed in the Two-Class classification problem, let us review the forumulation for $l(\\beta)$:\n",
        "\\begin{equation}\n",
        "l(\\beta) = log(L(\\beta)) = \\sum_{i=1}^{n}\n",
        "[\n",
        "\\begin{array}{ccccc}\n",
        "log(p_{i,0}), log(p_{i,1}), log(p_{i,2}),...,log(p_{i,K-1})\n",
        "\\end{array}\n",
        "]\n",
        "\\left[\n",
        "\\begin{array}{c}\n",
        "0 \\\\\n",
        "0 \\\\\n",
        ". \\\\\n",
        "1 \\\\\n",
        ". \\\\\n",
        "0\n",
        "\\end{array}\n",
        "\\right]\n",
        "\\end{equation}\n",
        "\n",
        "Let us understand the above formulation a little better:\n",
        "1. The summation is over all images in the training set, in this case $n$ such images.\n",
        "2. For an $i$-th image, i.e., a term within the summation, a dot product is computed between probability vector and **one-hot** vector.\n",
        "3. The **one-hot** vector for the $i$-th image is $1$ only at $k$-th entry, i.e., $i$-th image belongs to Class-$k$.\n",
        "4. The probability vector is the vector of probabilities computed for each class based on the probability formulation above.\n",
        "5. The dot product simply picks one element from the probability vector. Same as above, this is referred to as **cross-etropy with logits**.\n",
        "\n",
        "Finally, all $\\beta_{k}$(s) are estimated as part of the training phase by optimizing, i.e., minimizing or maximizing, an objective function.\n"
      ]
    },
    {
      "cell_type": "markdown",
      "metadata": {
        "id": "xMXa4U6c1x0x",
        "colab_type": "text"
      },
      "source": [
        "## Logistic Regression with TF/Keras Library\n",
        "\n",
        "In this section, we will implement logistic regression and apply on Fashion MNIST database. The database contains images of articles of clothing and the task is to classify these images as one of a select number of labels. Training set contains $60000$ images and Test set contains $10000$ images. There are a total of $10$ class labels. Each image is a $28 \\times 28$ matrix of pixel values."
      ]
    },
    {
      "cell_type": "code",
      "metadata": {
        "id": "MK5vxrwqWuN3",
        "colab_type": "code",
        "colab": {}
      },
      "source": [
        "import numpy as np\n",
        "import tensorflow as tf\n",
        "import matplotlib.pyplot as plt"
      ],
      "execution_count": 0,
      "outputs": []
    },
    {
      "cell_type": "code",
      "metadata": {
        "id": "TeoZXFyY2EdY",
        "colab_type": "code",
        "outputId": "cbcb8dea-debf-433e-d044-23737ef871c8",
        "colab": {
          "base_uri": "https://localhost:8080/",
          "height": 153
        }
      },
      "source": [
        "# Download Fashion MNIST data\n",
        "from tensorflow import keras\n",
        "fashion_mnist = keras.datasets.fashion_mnist\n",
        "(trImages, trLabels), (tImages, tLabels) = fashion_mnist.load_data()"
      ],
      "execution_count": 2,
      "outputs": [
        {
          "output_type": "stream",
          "text": [
            "Downloading data from https://storage.googleapis.com/tensorflow/tf-keras-datasets/train-labels-idx1-ubyte.gz\n",
            "32768/29515 [=================================] - 0s 0us/step\n",
            "Downloading data from https://storage.googleapis.com/tensorflow/tf-keras-datasets/train-images-idx3-ubyte.gz\n",
            "26427392/26421880 [==============================] - 0s 0us/step\n",
            "Downloading data from https://storage.googleapis.com/tensorflow/tf-keras-datasets/t10k-labels-idx1-ubyte.gz\n",
            "8192/5148 [===============================================] - 0s 0us/step\n",
            "Downloading data from https://storage.googleapis.com/tensorflow/tf-keras-datasets/t10k-images-idx3-ubyte.gz\n",
            "4423680/4422102 [==============================] - 0s 0us/step\n"
          ],
          "name": "stdout"
        }
      ]
    },
    {
      "cell_type": "code",
      "metadata": {
        "id": "rBPqXMelSxU7",
        "colab_type": "code",
        "colab": {
          "base_uri": "https://localhost:8080/",
          "height": 85
        },
        "outputId": "e8812652-0176-4b7c-c4f4-f481c8609090"
      },
      "source": [
        "print(np.shape(trImages))\n",
        "print(np.shape(tImages))\n",
        "print(np.max(trImages[0]))\n",
        "print(np.min(trImages[0]))"
      ],
      "execution_count": 3,
      "outputs": [
        {
          "output_type": "stream",
          "text": [
            "(60000, 28, 28)\n",
            "(10000, 28, 28)\n",
            "255\n",
            "0\n"
          ],
          "name": "stdout"
        }
      ]
    },
    {
      "cell_type": "markdown",
      "metadata": {
        "id": "jzcv_wRzT-Ap",
        "colab_type": "text"
      },
      "source": [
        "### Single-Layer Implementation\n",
        "\n",
        "Single-layer implementation of logistic regression follows the discussion above. There is an input layer where each image is flattened into a vector of $28 \\times 28 = 784$ elements and fed into a **Softmax** layer. Output of softmax layer are probabilities of the image belonging to one of the possible $10$ class labels. \n",
        "\n",
        "One may wonder why we use **Softmax** instead of **Sigmoid** formulation used in the formalization above. We will revisit this later in the discussion."
      ]
    },
    {
      "cell_type": "code",
      "metadata": {
        "id": "NyioMvtnBNY7",
        "colab_type": "code",
        "colab": {}
      },
      "source": [
        "# Training Parameters\n",
        "batchSize = 128\n",
        "nEpochs = 50"
      ],
      "execution_count": 0,
      "outputs": []
    },
    {
      "cell_type": "markdown",
      "metadata": {
        "id": "luWf-06-9tFC",
        "colab_type": "text"
      },
      "source": [
        "In the code snippet below, we do the following:\n",
        "\n",
        "\n",
        "1.   Defining a Sequential network model using Keras library\n",
        "2.   Input images are flattened in the input layer and fed to subsequent layer\n",
        "3.   Layer1 has 10 units whose activation function is **Softmax**\n",
        "4.   Loss function is Sparse_Categorical_CrossEntropy\n",
        "5.   Adam optimizer is used to minimize the above loss function during the training phase\n",
        "\n",
        "A block diagram of the network shows dimensions of the various layers."
      ]
    },
    {
      "cell_type": "code",
      "metadata": {
        "id": "jKkG_yPG2eWV",
        "colab_type": "code",
        "outputId": "afbca2b8-2766-4293-e4b5-f21b368e0d46",
        "colab": {
          "base_uri": "https://localhost:8080/",
          "height": 312
        }
      },
      "source": [
        "# Building a feed-forward network\n",
        "\n",
        "model = tf.keras.Sequential() # empty model\n",
        "\n",
        "# Layer0 simply flattens image input\n",
        "layer0 = tf.keras.layers.Flatten(input_shape=np.shape(trImages[0]),name='Images')\n",
        "model.add(layer0)\n",
        "\n",
        "# Layer1 is the output layer\n",
        "numUnits_L1 = 10\n",
        "layer1 = tf.keras.layers.Dense(units=numUnits_L1, activation=tf.nn.softmax, use_bias=True, name='Logistic')\n",
        "model.add(layer1)\n",
        "\n",
        "# Compile model\n",
        "model.compile(optimizer='adam',loss='sparse_categorical_crossentropy', metrics=['accuracy']) #'sparse_categorical_crossentropy'\n",
        "\n",
        "# Plot Logistic Regression Network\n",
        "tf.keras.utils.plot_model(model,show_shapes=True,show_layer_names=True)\n"
      ],
      "execution_count": 20,
      "outputs": [
        {
          "output_type": "execute_result",
          "data": {
            "image/png": "[encoded data removed]",
            "text/plain": [
              "<IPython.core.display.Image object>"
            ]
          },
          "metadata": {
            "tags": []
          },
          "execution_count": 20
        }
      ]
    },
    {
      "cell_type": "code",
      "metadata": {
        "id": "XMOrroKU72oU",
        "colab_type": "code",
        "colab": {
          "base_uri": "https://localhost:8080/",
          "height": 1000
        },
        "outputId": "eb22eb73-6493-493f-b867-f5820c46dd0e"
      },
      "source": [
        "# Normalizing input (this step doesn't seem to be critical)\n",
        "trImages = trImages/255.0\n",
        "tImages = tImages/255.0\n",
        "\n",
        "# Train the model\n",
        "trHistory = model.fit(x=trImages, y=trLabels, batch_size=batchSize, epochs=nEpochs,shuffle=False, validation_split=0.0)"
      ],
      "execution_count": 21,
      "outputs": [
        {
          "output_type": "stream",
          "text": [
            "Epoch 1/150\n",
            "60000/60000 [==============================] - 1s 19us/sample - loss: 2.2214 - acc: 0.5451\n",
            "Epoch 2/150\n",
            "60000/60000 [==============================] - 1s 20us/sample - loss: 2.0722 - acc: 0.6752\n",
            "Epoch 3/150\n",
            "60000/60000 [==============================] - 1s 19us/sample - loss: 1.9390 - acc: 0.6897\n",
            "Epoch 4/150\n",
            "60000/60000 [==============================] - 1s 19us/sample - loss: 1.8202 - acc: 0.6936\n",
            "Epoch 5/150\n",
            "60000/60000 [==============================] - 1s 19us/sample - loss: 1.7142 - acc: 0.6964\n",
            "Epoch 6/150\n",
            "60000/60000 [==============================] - 1s 18us/sample - loss: 1.6196 - acc: 0.6989\n",
            "Epoch 7/150\n",
            "60000/60000 [==============================] - 1s 19us/sample - loss: 1.5351 - acc: 0.7011\n",
            "Epoch 8/150\n",
            "60000/60000 [==============================] - 1s 18us/sample - loss: 1.4594 - acc: 0.7041\n",
            "Epoch 9/150\n",
            "60000/60000 [==============================] - 1s 18us/sample - loss: 1.3916 - acc: 0.7070\n",
            "Epoch 10/150\n",
            "60000/60000 [==============================] - 1s 20us/sample - loss: 1.3306 - acc: 0.7096\n",
            "Epoch 11/150\n",
            "60000/60000 [==============================] - 1s 19us/sample - loss: 1.2757 - acc: 0.7118\n",
            "Epoch 12/150\n",
            "60000/60000 [==============================] - 1s 19us/sample - loss: 1.2263 - acc: 0.7146\n",
            "Epoch 13/150\n",
            "60000/60000 [==============================] - 1s 19us/sample - loss: 1.1815 - acc: 0.7170\n",
            "Epoch 14/150\n",
            "60000/60000 [==============================] - 1s 19us/sample - loss: 1.1410 - acc: 0.7194\n",
            "Epoch 15/150\n",
            "60000/60000 [==============================] - 1s 19us/sample - loss: 1.1043 - acc: 0.7216\n",
            "Epoch 16/150\n",
            "60000/60000 [==============================] - 1s 19us/sample - loss: 1.0709 - acc: 0.7236\n",
            "Epoch 17/150\n",
            "60000/60000 [==============================] - 1s 19us/sample - loss: 1.0405 - acc: 0.7258\n",
            "Epoch 18/150\n",
            "60000/60000 [==============================] - 1s 19us/sample - loss: 1.0128 - acc: 0.7283\n",
            "Epoch 19/150\n",
            "60000/60000 [==============================] - 1s 19us/sample - loss: 0.9874 - acc: 0.7303\n",
            "Epoch 20/150\n",
            "60000/60000 [==============================] - 1s 19us/sample - loss: 0.9642 - acc: 0.7322\n",
            "Epoch 21/150\n",
            "60000/60000 [==============================] - 1s 19us/sample - loss: 0.9429 - acc: 0.7338\n",
            "Epoch 22/150\n",
            "60000/60000 [==============================] - 1s 20us/sample - loss: 0.9233 - acc: 0.7356\n",
            "Epoch 23/150\n",
            "60000/60000 [==============================] - 1s 20us/sample - loss: 0.9053 - acc: 0.7372\n",
            "Epoch 24/150\n",
            "60000/60000 [==============================] - 1s 21us/sample - loss: 0.8886 - acc: 0.7391\n",
            "Epoch 25/150\n",
            "60000/60000 [==============================] - 1s 20us/sample - loss: 0.8732 - acc: 0.7408\n",
            "Epoch 26/150\n",
            "60000/60000 [==============================] - 1s 20us/sample - loss: 0.8589 - acc: 0.7424\n",
            "Epoch 27/150\n",
            "60000/60000 [==============================] - 1s 20us/sample - loss: 0.8456 - acc: 0.7440\n",
            "Epoch 28/150\n",
            "60000/60000 [==============================] - 1s 19us/sample - loss: 0.8332 - acc: 0.7455\n",
            "Epoch 29/150\n",
            "60000/60000 [==============================] - 1s 19us/sample - loss: 0.8216 - acc: 0.7474\n",
            "Epoch 30/150\n",
            "60000/60000 [==============================] - 1s 19us/sample - loss: 0.8107 - acc: 0.7489\n",
            "Epoch 31/150\n",
            "60000/60000 [==============================] - 1s 19us/sample - loss: 0.8006 - acc: 0.7503\n",
            "Epoch 32/150\n",
            "60000/60000 [==============================] - 1s 19us/sample - loss: 0.7910 - acc: 0.7517\n",
            "Epoch 33/150\n",
            "60000/60000 [==============================] - 1s 19us/sample - loss: 0.7821 - acc: 0.7531\n",
            "Epoch 34/150\n",
            "60000/60000 [==============================] - 1s 19us/sample - loss: 0.7736 - acc: 0.7545\n",
            "Epoch 35/150\n",
            "60000/60000 [==============================] - 1s 19us/sample - loss: 0.7656 - acc: 0.7556\n",
            "Epoch 36/150\n",
            "60000/60000 [==============================] - 1s 19us/sample - loss: 0.7580 - acc: 0.7565\n",
            "Epoch 37/150\n",
            "60000/60000 [==============================] - 1s 19us/sample - loss: 0.7508 - acc: 0.7578\n",
            "Epoch 38/150\n",
            "60000/60000 [==============================] - 1s 19us/sample - loss: 0.7439 - acc: 0.7589\n",
            "Epoch 39/150\n",
            "60000/60000 [==============================] - 1s 19us/sample - loss: 0.7374 - acc: 0.7600\n",
            "Epoch 40/150\n",
            "60000/60000 [==============================] - 1s 19us/sample - loss: 0.7312 - acc: 0.7615\n",
            "Epoch 41/150\n",
            "60000/60000 [==============================] - 1s 19us/sample - loss: 0.7253 - acc: 0.7625\n",
            "Epoch 42/150\n",
            "60000/60000 [==============================] - 1s 19us/sample - loss: 0.7196 - acc: 0.7636\n",
            "Epoch 43/150\n",
            "60000/60000 [==============================] - 1s 20us/sample - loss: 0.7142 - acc: 0.7648\n",
            "Epoch 44/150\n",
            "60000/60000 [==============================] - 1s 19us/sample - loss: 0.7090 - acc: 0.7661\n",
            "Epoch 45/150\n",
            "60000/60000 [==============================] - 1s 19us/sample - loss: 0.7041 - acc: 0.7674\n",
            "Epoch 46/150\n",
            "60000/60000 [==============================] - 1s 19us/sample - loss: 0.6993 - acc: 0.7686\n",
            "Epoch 47/150\n",
            "60000/60000 [==============================] - 1s 19us/sample - loss: 0.6947 - acc: 0.7695\n",
            "Epoch 48/150\n",
            "60000/60000 [==============================] - 1s 20us/sample - loss: 0.6903 - acc: 0.7706\n",
            "Epoch 49/150\n",
            "60000/60000 [==============================] - 1s 20us/sample - loss: 0.6860 - acc: 0.7715\n",
            "Epoch 50/150\n",
            "60000/60000 [==============================] - 1s 19us/sample - loss: 0.6819 - acc: 0.7727\n",
            "Epoch 51/150\n",
            "60000/60000 [==============================] - 1s 19us/sample - loss: 0.6779 - acc: 0.7735\n",
            "Epoch 52/150\n",
            "60000/60000 [==============================] - 1s 19us/sample - loss: 0.6741 - acc: 0.7746\n",
            "Epoch 53/150\n",
            "60000/60000 [==============================] - 1s 19us/sample - loss: 0.6704 - acc: 0.7756\n",
            "Epoch 54/150\n",
            "60000/60000 [==============================] - 1s 19us/sample - loss: 0.6668 - acc: 0.7764\n",
            "Epoch 55/150\n",
            "60000/60000 [==============================] - 1s 19us/sample - loss: 0.6634 - acc: 0.7773\n",
            "Epoch 56/150\n",
            "60000/60000 [==============================] - 1s 19us/sample - loss: 0.6600 - acc: 0.7784\n",
            "Epoch 57/150\n",
            "60000/60000 [==============================] - 1s 19us/sample - loss: 0.6567 - acc: 0.7793\n",
            "Epoch 58/150\n",
            "60000/60000 [==============================] - 1s 19us/sample - loss: 0.6536 - acc: 0.7802\n",
            "Epoch 59/150\n",
            "60000/60000 [==============================] - 1s 19us/sample - loss: 0.6505 - acc: 0.7810\n",
            "Epoch 60/150\n",
            "60000/60000 [==============================] - 1s 19us/sample - loss: 0.6475 - acc: 0.7818\n",
            "Epoch 61/150\n",
            "60000/60000 [==============================] - 1s 20us/sample - loss: 0.6446 - acc: 0.7826\n",
            "Epoch 62/150\n",
            "60000/60000 [==============================] - 1s 19us/sample - loss: 0.6418 - acc: 0.7835\n",
            "Epoch 63/150\n",
            "60000/60000 [==============================] - 1s 20us/sample - loss: 0.6390 - acc: 0.7844\n",
            "Epoch 64/150\n",
            "60000/60000 [==============================] - 1s 19us/sample - loss: 0.6364 - acc: 0.7853\n",
            "Epoch 65/150\n",
            "60000/60000 [==============================] - 1s 19us/sample - loss: 0.6338 - acc: 0.7862\n",
            "Epoch 66/150\n",
            "60000/60000 [==============================] - 1s 18us/sample - loss: 0.6312 - acc: 0.7868\n",
            "Epoch 67/150\n",
            "60000/60000 [==============================] - 1s 19us/sample - loss: 0.6287 - acc: 0.7878\n",
            "Epoch 68/150\n",
            "60000/60000 [==============================] - 1s 19us/sample - loss: 0.6263 - acc: 0.7885\n",
            "Epoch 69/150\n",
            "60000/60000 [==============================] - 1s 19us/sample - loss: 0.6240 - acc: 0.7892\n",
            "Epoch 70/150\n",
            "60000/60000 [==============================] - 1s 19us/sample - loss: 0.6217 - acc: 0.7898\n",
            "Epoch 71/150\n",
            "60000/60000 [==============================] - 1s 18us/sample - loss: 0.6194 - acc: 0.7905\n",
            "Epoch 72/150\n",
            "60000/60000 [==============================] - 1s 19us/sample - loss: 0.6172 - acc: 0.7913\n",
            "Epoch 73/150\n",
            "60000/60000 [==============================] - 1s 19us/sample - loss: 0.6151 - acc: 0.7918\n",
            "Epoch 74/150\n",
            "60000/60000 [==============================] - 1s 19us/sample - loss: 0.6130 - acc: 0.7926\n",
            "Epoch 75/150\n",
            "60000/60000 [==============================] - 1s 20us/sample - loss: 0.6109 - acc: 0.7931\n",
            "Epoch 76/150\n",
            "60000/60000 [==============================] - 1s 19us/sample - loss: 0.6089 - acc: 0.7937\n",
            "Epoch 77/150\n",
            "60000/60000 [==============================] - 1s 20us/sample - loss: 0.6069 - acc: 0.7944\n",
            "Epoch 78/150\n",
            "60000/60000 [==============================] - 1s 19us/sample - loss: 0.6050 - acc: 0.7952\n",
            "Epoch 79/150\n",
            "60000/60000 [==============================] - 1s 19us/sample - loss: 0.6031 - acc: 0.7959\n",
            "Epoch 80/150\n",
            "60000/60000 [==============================] - 1s 19us/sample - loss: 0.6013 - acc: 0.7966\n",
            "Epoch 81/150\n",
            "60000/60000 [==============================] - 1s 19us/sample - loss: 0.5995 - acc: 0.7970\n",
            "Epoch 82/150\n",
            "60000/60000 [==============================] - 1s 19us/sample - loss: 0.5977 - acc: 0.7975\n",
            "Epoch 83/150\n",
            "60000/60000 [==============================] - 1s 19us/sample - loss: 0.5960 - acc: 0.7980\n",
            "Epoch 84/150\n",
            "60000/60000 [==============================] - 1s 19us/sample - loss: 0.5943 - acc: 0.7984\n",
            "Epoch 85/150\n",
            "60000/60000 [==============================] - 1s 19us/sample - loss: 0.5926 - acc: 0.7990\n",
            "Epoch 86/150\n",
            "60000/60000 [==============================] - 1s 19us/sample - loss: 0.5909 - acc: 0.7996\n",
            "Epoch 87/150\n",
            "60000/60000 [==============================] - 1s 19us/sample - loss: 0.5893 - acc: 0.8001\n",
            "Epoch 88/150\n",
            "60000/60000 [==============================] - 1s 19us/sample - loss: 0.5878 - acc: 0.8004\n",
            "Epoch 89/150\n",
            "60000/60000 [==============================] - 1s 19us/sample - loss: 0.5862 - acc: 0.8010\n",
            "Epoch 90/150\n",
            "60000/60000 [==============================] - 1s 20us/sample - loss: 0.5847 - acc: 0.8015\n",
            "Epoch 91/150\n",
            "60000/60000 [==============================] - 1s 19us/sample - loss: 0.5832 - acc: 0.8020\n",
            "Epoch 92/150\n",
            "60000/60000 [==============================] - 1s 19us/sample - loss: 0.5817 - acc: 0.8025\n",
            "Epoch 93/150\n",
            "60000/60000 [==============================] - 1s 19us/sample - loss: 0.5803 - acc: 0.8030\n",
            "Epoch 94/150\n",
            "60000/60000 [==============================] - 1s 19us/sample - loss: 0.5789 - acc: 0.8035\n",
            "Epoch 95/150\n",
            "60000/60000 [==============================] - 1s 19us/sample - loss: 0.5775 - acc: 0.8040\n",
            "Epoch 96/150\n",
            "60000/60000 [==============================] - 1s 19us/sample - loss: 0.5761 - acc: 0.8045\n",
            "Epoch 97/150\n",
            "60000/60000 [==============================] - 1s 19us/sample - loss: 0.5747 - acc: 0.8048\n",
            "Epoch 98/150\n",
            "60000/60000 [==============================] - 1s 19us/sample - loss: 0.5734 - acc: 0.8052\n",
            "Epoch 99/150\n",
            "60000/60000 [==============================] - 1s 19us/sample - loss: 0.5721 - acc: 0.8056\n",
            "Epoch 100/150\n",
            "60000/60000 [==============================] - 1s 19us/sample - loss: 0.5708 - acc: 0.8061\n",
            "Epoch 101/150\n",
            "60000/60000 [==============================] - 1s 19us/sample - loss: 0.5696 - acc: 0.8065\n",
            "Epoch 102/150\n",
            "60000/60000 [==============================] - 1s 19us/sample - loss: 0.5683 - acc: 0.8067\n",
            "Epoch 103/150\n",
            "60000/60000 [==============================] - 1s 19us/sample - loss: 0.5671 - acc: 0.8072\n",
            "Epoch 104/150\n",
            "60000/60000 [==============================] - 1s 19us/sample - loss: 0.5659 - acc: 0.8076\n",
            "Epoch 105/150\n",
            "60000/60000 [==============================] - 1s 19us/sample - loss: 0.5647 - acc: 0.8080\n",
            "Epoch 106/150\n",
            "60000/60000 [==============================] - 1s 19us/sample - loss: 0.5635 - acc: 0.8082\n",
            "Epoch 107/150\n",
            "60000/60000 [==============================] - 1s 19us/sample - loss: 0.5624 - acc: 0.8087\n",
            "Epoch 108/150\n",
            "60000/60000 [==============================] - 1s 19us/sample - loss: 0.5613 - acc: 0.8092\n",
            "Epoch 109/150\n",
            "60000/60000 [==============================] - 1s 19us/sample - loss: 0.5601 - acc: 0.8094\n",
            "Epoch 110/150\n",
            "60000/60000 [==============================] - 1s 19us/sample - loss: 0.5590 - acc: 0.8098\n",
            "Epoch 111/150\n",
            "60000/60000 [==============================] - 1s 19us/sample - loss: 0.5580 - acc: 0.8099\n",
            "Epoch 112/150\n",
            "60000/60000 [==============================] - 1s 19us/sample - loss: 0.5569 - acc: 0.8103\n",
            "Epoch 113/150\n",
            "60000/60000 [==============================] - 1s 19us/sample - loss: 0.5558 - acc: 0.8105\n",
            "Epoch 114/150\n",
            "60000/60000 [==============================] - 1s 20us/sample - loss: 0.5548 - acc: 0.8108\n",
            "Epoch 115/150\n",
            "60000/60000 [==============================] - 1s 20us/sample - loss: 0.5538 - acc: 0.8111\n",
            "Epoch 116/150\n",
            "60000/60000 [==============================] - 1s 19us/sample - loss: 0.5528 - acc: 0.8113\n",
            "Epoch 117/150\n",
            "60000/60000 [==============================] - 1s 19us/sample - loss: 0.5518 - acc: 0.8115\n",
            "Epoch 118/150\n",
            "60000/60000 [==============================] - 1s 19us/sample - loss: 0.5508 - acc: 0.8119\n",
            "Epoch 119/150\n",
            "60000/60000 [==============================] - 1s 19us/sample - loss: 0.5498 - acc: 0.8122\n",
            "Epoch 120/150\n",
            "60000/60000 [==============================] - 1s 18us/sample - loss: 0.5489 - acc: 0.8126\n",
            "Epoch 121/150\n",
            "60000/60000 [==============================] - 1s 19us/sample - loss: 0.5479 - acc: 0.8130\n",
            "Epoch 122/150\n",
            "60000/60000 [==============================] - 1s 19us/sample - loss: 0.5470 - acc: 0.8134\n",
            "Epoch 123/150\n",
            "60000/60000 [==============================] - 1s 19us/sample - loss: 0.5461 - acc: 0.8137\n",
            "Epoch 124/150\n",
            "60000/60000 [==============================] - 1s 19us/sample - loss: 0.5452 - acc: 0.8140\n",
            "Epoch 125/150\n",
            "60000/60000 [==============================] - 1s 19us/sample - loss: 0.5443 - acc: 0.8143\n",
            "Epoch 126/150\n",
            "60000/60000 [==============================] - 1s 19us/sample - loss: 0.5434 - acc: 0.8145\n",
            "Epoch 127/150\n",
            "60000/60000 [==============================] - 1s 20us/sample - loss: 0.5425 - acc: 0.8146\n",
            "Epoch 128/150\n",
            "60000/60000 [==============================] - 1s 19us/sample - loss: 0.5417 - acc: 0.8150\n",
            "Epoch 129/150\n",
            "60000/60000 [==============================] - 1s 21us/sample - loss: 0.5408 - acc: 0.8154\n",
            "Epoch 130/150\n",
            "60000/60000 [==============================] - 1s 20us/sample - loss: 0.5400 - acc: 0.8158\n",
            "Epoch 131/150\n",
            "60000/60000 [==============================] - 1s 19us/sample - loss: 0.5392 - acc: 0.8160\n",
            "Epoch 132/150\n",
            "60000/60000 [==============================] - 1s 20us/sample - loss: 0.5383 - acc: 0.8163\n",
            "Epoch 133/150\n",
            "60000/60000 [==============================] - 1s 19us/sample - loss: 0.5375 - acc: 0.8165\n",
            "Epoch 134/150\n",
            "60000/60000 [==============================] - 1s 19us/sample - loss: 0.5367 - acc: 0.8166\n",
            "Epoch 135/150\n",
            "60000/60000 [==============================] - 1s 19us/sample - loss: 0.5360 - acc: 0.8168\n",
            "Epoch 136/150\n",
            "60000/60000 [==============================] - 1s 19us/sample - loss: 0.5352 - acc: 0.8170\n",
            "Epoch 137/150\n",
            "60000/60000 [==============================] - 1s 19us/sample - loss: 0.5344 - acc: 0.8173\n",
            "Epoch 138/150\n",
            "60000/60000 [==============================] - 1s 19us/sample - loss: 0.5336 - acc: 0.8175\n",
            "Epoch 139/150\n",
            "60000/60000 [==============================] - 1s 19us/sample - loss: 0.5329 - acc: 0.8180\n",
            "Epoch 140/150\n",
            "60000/60000 [==============================] - 1s 20us/sample - loss: 0.5322 - acc: 0.8183\n",
            "Epoch 141/150\n",
            "60000/60000 [==============================] - 1s 22us/sample - loss: 0.5314 - acc: 0.8184\n",
            "Epoch 142/150\n",
            "60000/60000 [==============================] - 1s 23us/sample - loss: 0.5307 - acc: 0.8185\n",
            "Epoch 143/150\n",
            "60000/60000 [==============================] - 1s 21us/sample - loss: 0.5300 - acc: 0.8188\n",
            "Epoch 144/150\n",
            "60000/60000 [==============================] - 1s 22us/sample - loss: 0.5293 - acc: 0.8192\n",
            "Epoch 145/150\n",
            "60000/60000 [==============================] - 1s 22us/sample - loss: 0.5286 - acc: 0.8194\n",
            "Epoch 146/150\n",
            "60000/60000 [==============================] - 1s 19us/sample - loss: 0.5279 - acc: 0.8195\n",
            "Epoch 147/150\n",
            "60000/60000 [==============================] - 1s 19us/sample - loss: 0.5272 - acc: 0.8197\n",
            "Epoch 148/150\n",
            "60000/60000 [==============================] - 1s 19us/sample - loss: 0.5265 - acc: 0.8199\n",
            "Epoch 149/150\n",
            "60000/60000 [==============================] - 1s 20us/sample - loss: 0.5258 - acc: 0.8204\n",
            "Epoch 150/150\n",
            "60000/60000 [==============================] - 1s 19us/sample - loss: 0.5252 - acc: 0.8206\n"
          ],
          "name": "stdout"
        }
      ]
    },
    {
      "cell_type": "code",
      "metadata": {
        "id": "L5HYLbgj4tf3",
        "colab_type": "code",
        "outputId": "349846d7-b22c-430b-e1e3-2a035d95c1e7",
        "colab": {
          "base_uri": "https://localhost:8080/",
          "height": 549
        }
      },
      "source": [
        "plt.figure(1)\n",
        "plt.plot(trHistory.history['acc'], 'b-o')\n",
        "#plt.plot(trHistory.history['loss'])\n",
        "plt.grid(True)\n",
        "plt.xlabel('Epoch #')\n",
        "plt.ylabel(\"Accuracy\")\n",
        "\n",
        "plt.figure(2)\n",
        "plt.plot(trHistory.history['loss'],'r-s')\n",
        "plt.grid(True)\n",
        "plt.xlabel('Epoch #')\n",
        "plt.ylabel(\"Loss\")\n",
        "plt.show()"
      ],
      "execution_count": 22,
      "outputs": [
        {
          "output_type": "display_data",
          "data": {
            "image/png": "[encoded data removed]",
            "text/plain": [
              "<Figure size 432x288 with 1 Axes>"
            ]
          },
          "metadata": {
            "tags": []
          }
        },
        {
          "output_type": "display_data",
          "data": {
            "image/png": "[encoded data removed]",
            "text/plain": [
              "<Figure size 432x288 with 1 Axes>"
            ]
          },
          "metadata": {
            "tags": []
          }
        }
      ]
    },
    {
      "cell_type": "code",
      "metadata": {
        "id": "aA4r8rHs4x3g",
        "colab_type": "code",
        "outputId": "61478502-10f9-469f-a995-c2fc9f0e72cd",
        "colab": {
          "base_uri": "https://localhost:8080/",
          "height": 34
        }
      },
      "source": [
        "tPrediction = model.predict(tImages) # output is a matrix of probabilities where each row corresponds to an image in the Test Set\n",
        "idCount = 0\n",
        "nErrs = 0\n",
        "for _ in tPrediction:\n",
        "  predictedLabel = np.argmax(_)\n",
        "  if predictedLabel != tLabels[idCount]:\n",
        "     nErrs += 1\n",
        "  idCount += 1\n",
        "\n",
        "errRate = nErrs / float(np.shape(tImages)[0])\n",
        "print(\"Prediction Error = %f\" %errRate)"
      ],
      "execution_count": 23,
      "outputs": [
        {
          "output_type": "stream",
          "text": [
            "Prediction Error = 0.189700\n"
          ],
          "name": "stdout"
        }
      ]
    },
    {
      "cell_type": "markdown",
      "metadata": {
        "id": "FRpyvddw5JM_",
        "colab_type": "text"
      },
      "source": [
        "### Multi-Layer Implementation\n",
        "\n",
        "In a multi-layer implementation of logistic regression, we process the input layer through additional ReLu layers prior to feeding it to a Logistic layer. In this implementation, pixels of input images are preprocessed prior to generating probabilities. \n",
        "\n",
        "In this example, we add two additional layers: Layer-1 has 128 units with ReLu activation and Layer-2 has 32 units with ReLu activation as well. The Logistic layer (or Layer-3), as before, has 10 units with Softmax activation.\n",
        "\n",
        "Such an implementation shows better classification performance."
      ]
    },
    {
      "cell_type": "code",
      "metadata": {
        "id": "_yFe7DRr6ghw",
        "colab_type": "code",
        "colab": {}
      },
      "source": [
        "# Training Parameters\n",
        "batchSize = 128\n",
        "nEpochs = 150"
      ],
      "execution_count": 0,
      "outputs": []
    },
    {
      "cell_type": "code",
      "metadata": {
        "id": "3mhEcWZR5R1A",
        "colab_type": "code",
        "outputId": "c67e0f82-5c98-4d5c-b1f6-6f74dee218f0",
        "colab": {
          "base_uri": "https://localhost:8080/",
          "height": 533
        }
      },
      "source": [
        "# Building a feed-forward network\n",
        "\n",
        "model = tf.keras.Sequential() # empty model\n",
        "\n",
        "# Layer0 simply flattens image input\n",
        "layer0 = tf.keras.layers.Flatten(input_shape=np.shape(trImages[0]),name='Images')\n",
        "model.add(layer0)\n",
        "\n",
        "# Layer1 is a dense layer\n",
        "numUnits_L1 =128\n",
        "layer1 = tf.keras.layers.Dense(units=numUnits_L1, activation=tf.nn.relu, use_bias=True,name='Dense-Relu1')\n",
        "model.add(layer1)\n",
        "\n",
        "# Layer2 is a dense layer\n",
        "numUnits_L2 =32\n",
        "layer2 = tf.keras.layers.Dense(units=numUnits_L2, activation=tf.nn.relu, use_bias=True,name='Dense-Relu2')\n",
        "model.add(layer2)\n",
        "\n",
        "# Layer3 is the output layer\n",
        "numUnits_L3 = 10\n",
        "layer3 = tf.keras.layers.Dense(units=numUnits_L3, activation=tf.nn.softmax, use_bias=True, name='Logistic')\n",
        "model.add(layer3)\n",
        "\n",
        "# Compile model\n",
        "model.compile(optimizer='adam',loss='sparse_categorical_crossentropy', metrics=['accuracy']) #'sparse_categorical_crossentropy'\n",
        "\n",
        "# Plot Logistic Regression Network\n",
        "tf.keras.utils.plot_model(model,show_shapes=True,show_layer_names=True)\n"
      ],
      "execution_count": 27,
      "outputs": [
        {
          "output_type": "execute_result",
          "data": {
            "image/png": "[encoded data removed]",
            "text/plain": [
              "<IPython.core.display.Image object>"
            ]
          },
          "metadata": {
            "tags": []
          },
          "execution_count": 27
        }
      ]
    },
    {
      "cell_type": "code",
      "metadata": {
        "id": "Np53mQip_hHh",
        "colab_type": "code",
        "colab": {
          "base_uri": "https://localhost:8080/",
          "height": 1000
        },
        "outputId": "c53a2443-d931-44c5-91d6-6c8b533190a7"
      },
      "source": [
        "# Normalizing input (this step doesn't seem to be critical)\n",
        "trImages = trImages/255.0\n",
        "tImages = tImages/255.0\n",
        "\n",
        "# Train the model\n",
        "trHistory = model.fit(x=trImages, y=trLabels, batch_size=batchSize, epochs=nEpochs,shuffle=False, validation_split=0.0)"
      ],
      "execution_count": 6,
      "outputs": [
        {
          "output_type": "stream",
          "text": [
            "Epoch 1/150\n",
            "60000/60000 [==============================] - 2s 41us/sample - loss: 0.5674 - acc: 0.8059\n",
            "Epoch 2/150\n",
            "60000/60000 [==============================] - 2s 31us/sample - loss: 0.3935 - acc: 0.8607\n",
            "Epoch 3/150\n",
            "60000/60000 [==============================] - 2s 32us/sample - loss: 0.3504 - acc: 0.8744\n",
            "Epoch 4/150\n",
            "60000/60000 [==============================] - 2s 33us/sample - loss: 0.3263 - acc: 0.8826\n",
            "Epoch 5/150\n",
            "60000/60000 [==============================] - 2s 33us/sample - loss: 0.3087 - acc: 0.8892\n",
            "Epoch 6/150\n",
            "60000/60000 [==============================] - 2s 34us/sample - loss: 0.2938 - acc: 0.8939\n",
            "Epoch 7/150\n",
            "60000/60000 [==============================] - 2s 35us/sample - loss: 0.2818 - acc: 0.8978\n",
            "Epoch 8/150\n",
            "60000/60000 [==============================] - 2s 33us/sample - loss: 0.2701 - acc: 0.9017\n",
            "Epoch 9/150\n",
            "60000/60000 [==============================] - 2s 32us/sample - loss: 0.2603 - acc: 0.9046\n",
            "Epoch 10/150\n",
            "60000/60000 [==============================] - 2s 30us/sample - loss: 0.2516 - acc: 0.9080\n",
            "Epoch 11/150\n",
            "60000/60000 [==============================] - 2s 31us/sample - loss: 0.2429 - acc: 0.9114\n",
            "Epoch 12/150\n",
            "60000/60000 [==============================] - 2s 32us/sample - loss: 0.2352 - acc: 0.9139\n",
            "Epoch 13/150\n",
            "60000/60000 [==============================] - 2s 32us/sample - loss: 0.2282 - acc: 0.9158\n",
            "Epoch 14/150\n",
            "60000/60000 [==============================] - 2s 31us/sample - loss: 0.2210 - acc: 0.9193\n",
            "Epoch 15/150\n",
            "60000/60000 [==============================] - 2s 31us/sample - loss: 0.2157 - acc: 0.9207\n",
            "Epoch 16/150\n",
            "60000/60000 [==============================] - 2s 32us/sample - loss: 0.2094 - acc: 0.9237\n",
            "Epoch 17/150\n",
            "60000/60000 [==============================] - 2s 32us/sample - loss: 0.2039 - acc: 0.9250\n",
            "Epoch 18/150\n",
            "60000/60000 [==============================] - 2s 32us/sample - loss: 0.1983 - acc: 0.9268\n",
            "Epoch 19/150\n",
            "60000/60000 [==============================] - 2s 33us/sample - loss: 0.1935 - acc: 0.9290\n",
            "Epoch 20/150\n",
            "60000/60000 [==============================] - 2s 32us/sample - loss: 0.1867 - acc: 0.9310\n",
            "Epoch 21/150\n",
            "60000/60000 [==============================] - 2s 33us/sample - loss: 0.1824 - acc: 0.9326\n",
            "Epoch 22/150\n",
            "60000/60000 [==============================] - 2s 32us/sample - loss: 0.1775 - acc: 0.9348\n",
            "Epoch 23/150\n",
            "60000/60000 [==============================] - 2s 31us/sample - loss: 0.1723 - acc: 0.9368\n",
            "Epoch 24/150\n",
            "60000/60000 [==============================] - 2s 32us/sample - loss: 0.1681 - acc: 0.9384\n",
            "Epoch 25/150\n",
            "60000/60000 [==============================] - 2s 31us/sample - loss: 0.1628 - acc: 0.9409\n",
            "Epoch 26/150\n",
            "60000/60000 [==============================] - 2s 32us/sample - loss: 0.1612 - acc: 0.9412\n",
            "Epoch 27/150\n",
            "60000/60000 [==============================] - 2s 31us/sample - loss: 0.1589 - acc: 0.9414\n",
            "Epoch 28/150\n",
            "60000/60000 [==============================] - 2s 33us/sample - loss: 0.1539 - acc: 0.9438\n",
            "Epoch 29/150\n",
            "60000/60000 [==============================] - 2s 33us/sample - loss: 0.1501 - acc: 0.9447\n",
            "Epoch 30/150\n",
            "60000/60000 [==============================] - 2s 32us/sample - loss: 0.1467 - acc: 0.9470\n",
            "Epoch 31/150\n",
            "60000/60000 [==============================] - 2s 31us/sample - loss: 0.1435 - acc: 0.9479\n",
            "Epoch 32/150\n",
            "60000/60000 [==============================] - 2s 32us/sample - loss: 0.1396 - acc: 0.9488\n",
            "Epoch 33/150\n",
            "60000/60000 [==============================] - 2s 31us/sample - loss: 0.1371 - acc: 0.9500\n",
            "Epoch 34/150\n",
            "60000/60000 [==============================] - 2s 32us/sample - loss: 0.1344 - acc: 0.9513\n",
            "Epoch 35/150\n",
            "60000/60000 [==============================] - 2s 32us/sample - loss: 0.1340 - acc: 0.9507\n",
            "Epoch 36/150\n",
            "60000/60000 [==============================] - 2s 34us/sample - loss: 0.1325 - acc: 0.9514\n",
            "Epoch 37/150\n",
            "60000/60000 [==============================] - 2s 32us/sample - loss: 0.1317 - acc: 0.9520\n",
            "Epoch 38/150\n",
            "60000/60000 [==============================] - 2s 32us/sample - loss: 0.1279 - acc: 0.9531\n",
            "Epoch 39/150\n",
            "60000/60000 [==============================] - 2s 31us/sample - loss: 0.1244 - acc: 0.9551\n",
            "Epoch 40/150\n",
            "60000/60000 [==============================] - 2s 32us/sample - loss: 0.1222 - acc: 0.9552\n",
            "Epoch 41/150\n",
            "60000/60000 [==============================] - 2s 32us/sample - loss: 0.1208 - acc: 0.9557\n",
            "Epoch 42/150\n",
            "60000/60000 [==============================] - 2s 32us/sample - loss: 0.1219 - acc: 0.9552\n",
            "Epoch 43/150\n",
            "60000/60000 [==============================] - 2s 33us/sample - loss: 0.1191 - acc: 0.9558\n",
            "Epoch 44/150\n",
            "60000/60000 [==============================] - 2s 33us/sample - loss: 0.1215 - acc: 0.9559\n",
            "Epoch 45/150\n",
            "60000/60000 [==============================] - 2s 33us/sample - loss: 0.1194 - acc: 0.9558\n",
            "Epoch 46/150\n",
            "60000/60000 [==============================] - 2s 31us/sample - loss: 0.1174 - acc: 0.9566\n",
            "Epoch 47/150\n",
            "60000/60000 [==============================] - 2s 32us/sample - loss: 0.1156 - acc: 0.9578\n",
            "Epoch 48/150\n",
            "60000/60000 [==============================] - 2s 33us/sample - loss: 0.1143 - acc: 0.9578\n",
            "Epoch 49/150\n",
            "60000/60000 [==============================] - 2s 32us/sample - loss: 0.1081 - acc: 0.9598\n",
            "Epoch 50/150\n",
            "60000/60000 [==============================] - 2s 32us/sample - loss: 0.1069 - acc: 0.9603\n",
            "Epoch 51/150\n",
            "60000/60000 [==============================] - 2s 34us/sample - loss: 0.1063 - acc: 0.9601\n",
            "Epoch 52/150\n",
            "60000/60000 [==============================] - 2s 36us/sample - loss: 0.1075 - acc: 0.9596\n",
            "Epoch 53/150\n",
            "60000/60000 [==============================] - 2s 35us/sample - loss: 0.1050 - acc: 0.9610\n",
            "Epoch 54/150\n",
            "60000/60000 [==============================] - 2s 31us/sample - loss: 0.1031 - acc: 0.9624\n",
            "Epoch 55/150\n",
            "60000/60000 [==============================] - 2s 31us/sample - loss: 0.1043 - acc: 0.9614\n",
            "Epoch 56/150\n",
            "60000/60000 [==============================] - 2s 31us/sample - loss: 0.1017 - acc: 0.9621\n",
            "Epoch 57/150\n",
            "60000/60000 [==============================] - 2s 30us/sample - loss: 0.0994 - acc: 0.9635\n",
            "Epoch 58/150\n",
            "60000/60000 [==============================] - 2s 32us/sample - loss: 0.0955 - acc: 0.9645\n",
            "Epoch 59/150\n",
            "60000/60000 [==============================] - 2s 32us/sample - loss: 0.0919 - acc: 0.9660\n",
            "Epoch 60/150\n",
            "60000/60000 [==============================] - 2s 31us/sample - loss: 0.0912 - acc: 0.9658\n",
            "Epoch 61/150\n",
            "60000/60000 [==============================] - 2s 31us/sample - loss: 0.0915 - acc: 0.9661\n",
            "Epoch 62/150\n",
            "60000/60000 [==============================] - 2s 31us/sample - loss: 0.0931 - acc: 0.9649\n",
            "Epoch 63/150\n",
            "60000/60000 [==============================] - 2s 32us/sample - loss: 0.0911 - acc: 0.9667\n",
            "Epoch 64/150\n",
            "60000/60000 [==============================] - 2s 31us/sample - loss: 0.0877 - acc: 0.9682\n",
            "Epoch 65/150\n",
            "60000/60000 [==============================] - 2s 31us/sample - loss: 0.0856 - acc: 0.9683\n",
            "Epoch 66/150\n",
            "60000/60000 [==============================] - 2s 32us/sample - loss: 0.0851 - acc: 0.9685\n",
            "Epoch 67/150\n",
            "60000/60000 [==============================] - 2s 32us/sample - loss: 0.0841 - acc: 0.9690\n",
            "Epoch 68/150\n",
            "60000/60000 [==============================] - 2s 30us/sample - loss: 0.0833 - acc: 0.9699\n",
            "Epoch 69/150\n",
            "60000/60000 [==============================] - 2s 31us/sample - loss: 0.0838 - acc: 0.9693\n",
            "Epoch 70/150\n",
            "60000/60000 [==============================] - 2s 31us/sample - loss: 0.0810 - acc: 0.9703\n",
            "Epoch 71/150\n",
            "60000/60000 [==============================] - 2s 31us/sample - loss: 0.0794 - acc: 0.9711\n",
            "Epoch 72/150\n",
            "60000/60000 [==============================] - 2s 32us/sample - loss: 0.0781 - acc: 0.9717\n",
            "Epoch 73/150\n",
            "60000/60000 [==============================] - 2s 32us/sample - loss: 0.0809 - acc: 0.9700\n",
            "Epoch 74/150\n",
            "60000/60000 [==============================] - 2s 33us/sample - loss: 0.0766 - acc: 0.9714\n",
            "Epoch 75/150\n",
            "60000/60000 [==============================] - 2s 34us/sample - loss: 0.0735 - acc: 0.9732\n",
            "Epoch 76/150\n",
            "60000/60000 [==============================] - 2s 32us/sample - loss: 0.0751 - acc: 0.9724\n",
            "Epoch 77/150\n",
            "60000/60000 [==============================] - 2s 31us/sample - loss: 0.0757 - acc: 0.9719\n",
            "Epoch 78/150\n",
            "60000/60000 [==============================] - 2s 32us/sample - loss: 0.0753 - acc: 0.9718\n",
            "Epoch 79/150\n",
            "60000/60000 [==============================] - 2s 31us/sample - loss: 0.0749 - acc: 0.9714\n",
            "Epoch 80/150\n",
            "60000/60000 [==============================] - 2s 31us/sample - loss: 0.0731 - acc: 0.9734\n",
            "Epoch 81/150\n",
            "60000/60000 [==============================] - 2s 31us/sample - loss: 0.0772 - acc: 0.9713\n",
            "Epoch 82/150\n",
            "60000/60000 [==============================] - 2s 31us/sample - loss: 0.0749 - acc: 0.9729\n",
            "Epoch 83/150\n",
            "60000/60000 [==============================] - 2s 32us/sample - loss: 0.0717 - acc: 0.9733\n",
            "Epoch 84/150\n",
            "60000/60000 [==============================] - 2s 32us/sample - loss: 0.0733 - acc: 0.9733\n",
            "Epoch 85/150\n",
            "60000/60000 [==============================] - 2s 32us/sample - loss: 0.0734 - acc: 0.9725\n",
            "Epoch 86/150\n",
            "60000/60000 [==============================] - 2s 31us/sample - loss: 0.0688 - acc: 0.9744\n",
            "Epoch 87/150\n",
            "60000/60000 [==============================] - 2s 32us/sample - loss: 0.0714 - acc: 0.9734\n",
            "Epoch 88/150\n",
            "60000/60000 [==============================] - 2s 31us/sample - loss: 0.0676 - acc: 0.9749\n",
            "Epoch 89/150\n",
            "60000/60000 [==============================] - 2s 31us/sample - loss: 0.0671 - acc: 0.9744\n",
            "Epoch 90/150\n",
            "60000/60000 [==============================] - 2s 32us/sample - loss: 0.0653 - acc: 0.9751\n",
            "Epoch 91/150\n",
            "60000/60000 [==============================] - 2s 31us/sample - loss: 0.0685 - acc: 0.9738\n",
            "Epoch 92/150\n",
            "60000/60000 [==============================] - 2s 30us/sample - loss: 0.0704 - acc: 0.9738\n",
            "Epoch 93/150\n",
            "60000/60000 [==============================] - 2s 31us/sample - loss: 0.0667 - acc: 0.9743\n",
            "Epoch 94/150\n",
            "60000/60000 [==============================] - 2s 32us/sample - loss: 0.0649 - acc: 0.9756\n",
            "Epoch 95/150\n",
            "60000/60000 [==============================] - 2s 32us/sample - loss: 0.0624 - acc: 0.9762\n",
            "Epoch 96/150\n",
            "60000/60000 [==============================] - 2s 31us/sample - loss: 0.0609 - acc: 0.9778\n",
            "Epoch 97/150\n",
            "60000/60000 [==============================] - 2s 31us/sample - loss: 0.0624 - acc: 0.9769\n",
            "Epoch 98/150\n",
            "60000/60000 [==============================] - 2s 31us/sample - loss: 0.0637 - acc: 0.9758\n",
            "Epoch 99/150\n",
            "60000/60000 [==============================] - 2s 32us/sample - loss: 0.0624 - acc: 0.9769\n",
            "Epoch 100/150\n",
            "60000/60000 [==============================] - 2s 31us/sample - loss: 0.0617 - acc: 0.9768\n",
            "Epoch 101/150\n",
            "60000/60000 [==============================] - 2s 31us/sample - loss: 0.0603 - acc: 0.9771\n",
            "Epoch 102/150\n",
            "60000/60000 [==============================] - 2s 30us/sample - loss: 0.0573 - acc: 0.9785\n",
            "Epoch 103/150\n",
            "60000/60000 [==============================] - 2s 31us/sample - loss: 0.0570 - acc: 0.9784\n",
            "Epoch 104/150\n",
            "60000/60000 [==============================] - 2s 31us/sample - loss: 0.0601 - acc: 0.9775\n",
            "Epoch 105/150\n",
            "60000/60000 [==============================] - 2s 35us/sample - loss: 0.0551 - acc: 0.9795\n",
            "Epoch 106/150\n",
            "60000/60000 [==============================] - 2s 35us/sample - loss: 0.0582 - acc: 0.9781\n",
            "Epoch 107/150\n",
            "60000/60000 [==============================] - 2s 34us/sample - loss: 0.0546 - acc: 0.9791\n",
            "Epoch 108/150\n",
            "60000/60000 [==============================] - 2s 33us/sample - loss: 0.0498 - acc: 0.9815\n",
            "Epoch 109/150\n",
            "60000/60000 [==============================] - 2s 34us/sample - loss: 0.0531 - acc: 0.9798\n",
            "Epoch 110/150\n",
            "60000/60000 [==============================] - 2s 32us/sample - loss: 0.0508 - acc: 0.9811\n",
            "Epoch 111/150\n",
            "60000/60000 [==============================] - 2s 32us/sample - loss: 0.0535 - acc: 0.9800\n",
            "Epoch 112/150\n",
            "60000/60000 [==============================] - 2s 31us/sample - loss: 0.0531 - acc: 0.9805\n",
            "Epoch 113/150\n",
            "60000/60000 [==============================] - 2s 31us/sample - loss: 0.0561 - acc: 0.9794\n",
            "Epoch 114/150\n",
            "60000/60000 [==============================] - 2s 32us/sample - loss: 0.0543 - acc: 0.9791\n",
            "Epoch 115/150\n",
            "60000/60000 [==============================] - 2s 32us/sample - loss: 0.0498 - acc: 0.9813\n",
            "Epoch 116/150\n",
            "60000/60000 [==============================] - 2s 31us/sample - loss: 0.0533 - acc: 0.9798\n",
            "Epoch 117/150\n",
            "60000/60000 [==============================] - 2s 30us/sample - loss: 0.0556 - acc: 0.9790\n",
            "Epoch 118/150\n",
            "60000/60000 [==============================] - 2s 31us/sample - loss: 0.0518 - acc: 0.9804\n",
            "Epoch 119/150\n",
            "60000/60000 [==============================] - 2s 30us/sample - loss: 0.0507 - acc: 0.9812\n",
            "Epoch 120/150\n",
            "60000/60000 [==============================] - 2s 31us/sample - loss: 0.0513 - acc: 0.9799\n",
            "Epoch 121/150\n",
            "60000/60000 [==============================] - 2s 32us/sample - loss: 0.0479 - acc: 0.9824\n",
            "Epoch 122/150\n",
            "60000/60000 [==============================] - 2s 30us/sample - loss: 0.0564 - acc: 0.9790\n",
            "Epoch 123/150\n",
            "60000/60000 [==============================] - 2s 31us/sample - loss: 0.0562 - acc: 0.9788\n",
            "Epoch 124/150\n",
            "60000/60000 [==============================] - 2s 31us/sample - loss: 0.0492 - acc: 0.9816\n",
            "Epoch 125/150\n",
            "60000/60000 [==============================] - 2s 31us/sample - loss: 0.0487 - acc: 0.9822\n",
            "Epoch 126/150\n",
            "60000/60000 [==============================] - 2s 32us/sample - loss: 0.0450 - acc: 0.9834\n",
            "Epoch 127/150\n",
            "60000/60000 [==============================] - 2s 30us/sample - loss: 0.0454 - acc: 0.9830\n",
            "Epoch 128/150\n",
            "60000/60000 [==============================] - 2s 33us/sample - loss: 0.0459 - acc: 0.9831\n",
            "Epoch 129/150\n",
            "60000/60000 [==============================] - 2s 32us/sample - loss: 0.0451 - acc: 0.9832\n",
            "Epoch 130/150\n",
            "60000/60000 [==============================] - 2s 32us/sample - loss: 0.0535 - acc: 0.9805\n",
            "Epoch 131/150\n",
            "60000/60000 [==============================] - 2s 31us/sample - loss: 0.0525 - acc: 0.9804\n",
            "Epoch 132/150\n",
            "60000/60000 [==============================] - 2s 32us/sample - loss: 0.0462 - acc: 0.9823\n",
            "Epoch 133/150\n",
            "60000/60000 [==============================] - 2s 31us/sample - loss: 0.0478 - acc: 0.9821\n",
            "Epoch 134/150\n",
            "60000/60000 [==============================] - 2s 32us/sample - loss: 0.0437 - acc: 0.9834\n",
            "Epoch 135/150\n",
            "60000/60000 [==============================] - 2s 33us/sample - loss: 0.0462 - acc: 0.9832\n",
            "Epoch 136/150\n",
            "60000/60000 [==============================] - 2s 31us/sample - loss: 0.0428 - acc: 0.9841\n",
            "Epoch 137/150\n",
            "60000/60000 [==============================] - 2s 32us/sample - loss: 0.0447 - acc: 0.9833\n",
            "Epoch 138/150\n",
            "60000/60000 [==============================] - 2s 32us/sample - loss: 0.0472 - acc: 0.9819\n",
            "Epoch 139/150\n",
            "60000/60000 [==============================] - 2s 32us/sample - loss: 0.0405 - acc: 0.9850\n",
            "Epoch 140/150\n",
            "60000/60000 [==============================] - 2s 31us/sample - loss: 0.0458 - acc: 0.9825\n",
            "Epoch 141/150\n",
            "60000/60000 [==============================] - 2s 32us/sample - loss: 0.0437 - acc: 0.9836\n",
            "Epoch 142/150\n",
            "60000/60000 [==============================] - 2s 33us/sample - loss: 0.0425 - acc: 0.9844\n",
            "Epoch 143/150\n",
            "60000/60000 [==============================] - 2s 32us/sample - loss: 0.0401 - acc: 0.9855\n",
            "Epoch 144/150\n",
            "60000/60000 [==============================] - 2s 31us/sample - loss: 0.0402 - acc: 0.9848\n",
            "Epoch 145/150\n",
            "60000/60000 [==============================] - 2s 32us/sample - loss: 0.0446 - acc: 0.9833\n",
            "Epoch 146/150\n",
            "60000/60000 [==============================] - 2s 31us/sample - loss: 0.0438 - acc: 0.9841\n",
            "Epoch 147/150\n",
            "60000/60000 [==============================] - 2s 31us/sample - loss: 0.0383 - acc: 0.9857\n",
            "Epoch 148/150\n",
            "60000/60000 [==============================] - 2s 32us/sample - loss: 0.0375 - acc: 0.9858\n",
            "Epoch 149/150\n",
            "60000/60000 [==============================] - 2s 31us/sample - loss: 0.0400 - acc: 0.9854\n",
            "Epoch 150/150\n",
            "60000/60000 [==============================] - 2s 32us/sample - loss: 0.0464 - acc: 0.9826\n"
          ],
          "name": "stdout"
        }
      ]
    },
    {
      "cell_type": "code",
      "metadata": {
        "id": "9kaJs9S6_pmA",
        "colab_type": "code",
        "outputId": "725b8296-f121-4df4-a101-d991b818ca80",
        "colab": {
          "base_uri": "https://localhost:8080/",
          "height": 549
        }
      },
      "source": [
        "plt.figure(1)\n",
        "plt.plot(trHistory.history['acc'], 'b-o')\n",
        "#plt.plot(trHistory.history['loss'])\n",
        "plt.grid(True)\n",
        "plt.xlabel('Epoch #')\n",
        "plt.ylabel(\"Accuracy\")\n",
        "\n",
        "plt.figure(2)\n",
        "plt.plot(trHistory.history['loss'],'r-s')\n",
        "plt.grid(True)\n",
        "plt.xlabel('Epoch #')\n",
        "plt.ylabel(\"Loss\")\n",
        "plt.show()"
      ],
      "execution_count": 7,
      "outputs": [
        {
          "output_type": "display_data",
          "data": {
            "image/png": "[encoded data removed]",
            "text/plain": [
              "<Figure size 432x288 with 1 Axes>"
            ]
          },
          "metadata": {
            "tags": []
          }
        },
        {
          "output_type": "display_data",
          "data": {
            "image/png": "[encoded data removed]",
            "text/plain": [
              "<Figure size 432x288 with 1 Axes>"
            ]
          },
          "metadata": {
            "tags": []
          }
        }
      ]
    },
    {
      "cell_type": "code",
      "metadata": {
        "id": "biwE7uJ9Au-U",
        "colab_type": "code",
        "outputId": "eef451d6-c243-49ef-c5e2-030b718c7790",
        "colab": {
          "base_uri": "https://localhost:8080/",
          "height": 34
        }
      },
      "source": [
        "tPrediction = model.predict(tImages) # output is a matrix of probabilities where each row corresponds to an image in the Test Set\n",
        "idCount = 0\n",
        "nErrs = 0\n",
        "for _ in tPrediction:\n",
        "  predictedLabel = np.argmax(_)\n",
        "  if predictedLabel != tLabels[idCount]:\n",
        "     nErrs += 1\n",
        "  idCount += 1\n",
        "\n",
        "errRate = nErrs / float(np.shape(tImages)[0])\n",
        "print(\"Prediction Error = %f\" %errRate)"
      ],
      "execution_count": 19,
      "outputs": [
        {
          "output_type": "stream",
          "text": [
            "Prediction Error = 0.123400\n"
          ],
          "name": "stdout"
        }
      ]
    },
    {
      "cell_type": "markdown",
      "metadata": {
        "id": "nX2cfDkfVtxK",
        "colab_type": "text"
      },
      "source": [
        "##Summary\n",
        "\n",
        "In a Single-Layer implementation, we apply logistic regression directly on pixels of input images. With this network, we achieve classification error of ~$19\\%$. In a Multi-Layer implementation, we apply two ReLu layers on pixels of input images prior to applying logistic regression. With this network, we achieve classification error of ~$12\\%$.\n",
        "\n",
        "Single-layer implementation uses a $784$ weight-matrix while Multi-Layer implementation uses a $784 \\times 128 \\times 32 \\times 10 $ weight-matrix, i.e., a total of $> 32$ million weights. With a factor of $40000$ more weights, we achieve an improvement of $6%$ in classification error rate."
      ]
    },
    {
      "cell_type": "markdown",
      "metadata": {
        "id": "nnj8iel33RoT",
        "colab_type": "text"
      },
      "source": [
        "## Appendix"
      ]
    },
    {
      "cell_type": "markdown",
      "metadata": {
        "id": "xBWZewUcWVxx",
        "colab_type": "text"
      },
      "source": [
        "### Softmax Function\n",
        "\n",
        "Given a vector $a = [a_1, a_2, ..., a_l]$, softmax function is defined as:\n",
        "\\begin{equation}\n",
        "Softmax(a) = \n",
        "\\left[\n",
        "\\begin{array}{ccccc}\n",
        "\\frac{e^{a_1}}{(e^{a_1} + e^{a_2} + ... +e^{a_l})} \\\\\n",
        "\\frac{e^{a_2}}{(e^{a_1} + e^{a_2} + ... +e^{a_l}) }\\\\\n",
        ". \\\\\n",
        ". \\\\\n",
        "\\frac{e^{a_l}}{(e^{a_1} + e^{a_2} + ... +e^{a_l}) }\\\\\n",
        "\\end{array}\n",
        "\\right]^T\n",
        "\\end{equation}\n",
        "\n",
        "The below code snippet compares an implementation of Softmax to Tensorflow implementation of the same."
      ]
    },
    {
      "cell_type": "code",
      "metadata": {
        "id": "hA2OJQOMpRN7",
        "colab_type": "code",
        "outputId": "04cd0944-b958-47ae-92c2-dd184e8d47ba",
        "colab": {
          "base_uri": "https://localhost:8080/",
          "height": 34
        }
      },
      "source": [
        "vecA = tf.constant([1.,2.,3.,-4.])\n",
        "\n",
        "outRelu = tf.nn.relu(vecA)\n",
        "\n",
        "with tf.Session() as sess:\n",
        "  print(sess.run(outRelu))\n"
      ],
      "execution_count": 0,
      "outputs": [
        {
          "output_type": "stream",
          "text": [
            "[1. 2. 3. 0.]\n"
          ],
          "name": "stdout"
        }
      ]
    },
    {
      "cell_type": "code",
      "metadata": {
        "id": "QNnFqGiDYqx-",
        "colab_type": "code",
        "colab": {}
      },
      "source": [
        "# Quick implementation of softmax\n",
        "# Use TF implementation of softmax to avoid precision problems\n",
        "def mySoftMax(vecInput):\n",
        "  dr = np.sum(np.exp(vecInput))\n",
        "  nr = np.exp(vecInput)\n",
        "  vecOutput = nr/dr\n",
        "  return(vecOutput)"
      ],
      "execution_count": 0,
      "outputs": []
    },
    {
      "cell_type": "markdown",
      "metadata": {
        "id": "DXfoEUCyfEcS",
        "colab_type": "text"
      },
      "source": [
        "### tf.nn.softmax_cross_entropy_with_logits_v2\n",
        "\n",
        "In the illustration example, Softmax(vecA) is computed and its dot product with a one-hot vector (vecLabels) is compuated. As we compare an implementation of this to one in Tensorflow, the difference is in the negative sign."
      ]
    },
    {
      "cell_type": "code",
      "metadata": {
        "id": "8aOMjRB8ZueW",
        "colab_type": "code",
        "outputId": "8f8b5797-9c53-47c1-fee1-681a8a97eea7",
        "colab": {
          "base_uri": "https://localhost:8080/",
          "height": 51
        }
      },
      "source": [
        "# Illustration of tf.nn.softmax_cross_entropy_with_logits_v2()\n",
        "vecA = tf.constant([1.,2.,3.,-5.]) # feel free to change value assignments to the vector\n",
        "vecLabels = tf.constant([1.,,0,0]) # one-hot vector\n",
        "\n",
        "vecTFSftMaxCrossEntropyWithLogits = tf.nn.softmax_cross_entropy_with_logits_v2(labels=vecLabels, logits=vecA)\n",
        "\n",
        "vecSftMaxOfA = tf.nn.softmax(vecA) # converts vecA into discrete probability distribution\n",
        "vecLogSftMaxOfA = tf.log(vecSftMaxOfA) # takes log() of softmax output or prob. distribution\n",
        "vecMyCrossEntropyWithLogits = tf.math.reduce_sum(tf.multiply(vecLogSftMaxOfA,vecLabels))\n",
        "\n",
        "with tf.Session() as sess:\n",
        "  print(sess.run(vecTFSftMaxCrossEntropyWithLogits))\n",
        "  print(sess.run(vecMyCrossEntropyWithLogits))"
      ],
      "execution_count": 0,
      "outputs": [
        {
          "output_type": "stream",
          "text": [
            "3.815658\n",
            "-3.815658\n"
          ],
          "name": "stdout"
        }
      ]
    },
    {
      "cell_type": "markdown",
      "metadata": {
        "id": "v13AQsgMpRv5",
        "colab_type": "text"
      },
      "source": [
        "###ReLu\n",
        "\n",
        "ReLu stands for Rectified Linear Unit and it is a non-linear activation function applied at a neural node. ReLu function passes non-negative numbers and clips negative numbers to zero.\n",
        "\n",
        "The code snippet is an illustration of the ReLu units."
      ]
    },
    {
      "cell_type": "code",
      "metadata": {
        "id": "dcNM4OAiXAlt",
        "colab_type": "code",
        "outputId": "da286e22-c262-440f-dc61-0ec06b2248be",
        "colab": {
          "base_uri": "https://localhost:8080/",
          "height": 102
        }
      },
      "source": [
        "# Illustration of Softmax Function\n",
        "vecA = tf.constant([1.,2.,3.,-5.]) # feel free to change value assignments to the vector\n",
        "vecSftMaxOfA = tf.nn.softmax(vecA)\n",
        "\n",
        "with tf.Session() as sess:\n",
        "  # As computed by tensorflow\n",
        "  print(\"Output computed by TF Softmax()\")\n",
        "  tfOutput = sess.run(vecSftMaxOfA)\n",
        "  print(tfOutput)\n",
        "  \n",
        "  # Check if it matches my implementation\n",
        "  print(\"Output compute by mySoftmax\")\n",
        "  print(mySoftMax(sess.run(vecA)))\n",
        "  \n",
        "  # Illustrate important properties of Softmax()\n",
        "  print(\"Note: sum(output of softmax function) = %f\" %np.sum(tfOutput))"
      ],
      "execution_count": 0,
      "outputs": [
        {
          "output_type": "stream",
          "text": [
            "Output computed by TF Softmax()\n",
            "[9.0010487e-02 2.4467388e-01 6.6509253e-01 2.2311369e-04]\n",
            "Output compute by mySoftmax\n",
            "[9.0010479e-02 2.4467386e-01 6.6509253e-01 2.2311369e-04]\n",
            "Note: sum(output of softmax function) = 1.000000\n"
          ],
          "name": "stdout"
        }
      ]
    }
  ]
}